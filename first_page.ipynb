{
 "cells": [
  {
   "cell_type": "code",
   "execution_count": 1,
   "metadata": {},
   "outputs": [
    {
     "data": {
      "text/html": [
       "<script>jQuery(function() {if (jQuery(\"body.notebook_app\").length == 0) { jQuery(\".input_area\").toggle(); jQuery(\".prompt\").toggle();}});</script>"
      ]
     },
     "metadata": {},
     "output_type": "display_data"
    },
    {
     "data": {
      "text/html": [
       "<button onclick=\"jQuery('.input_area').toggle(); jQuery('.prompt').toggle();\">Toggle code</button>"
      ]
     },
     "metadata": {},
     "output_type": "display_data"
    }
   ],
   "source": [
    "from IPython.display import display\n",
    "from IPython.display import HTML\n",
    "import IPython.core.display as di # Example: di.display_html('<h3>%s:</h3>' % str, raw=True)\n",
    "\n",
    "# This line will hide code by default when the notebook is exported as HTML\n",
    "di.display_html('<script>jQuery(function() {if (jQuery(\"body.notebook_app\").length == 0) { jQuery(\".input_area\").toggle(); jQuery(\".prompt\").toggle();}});</script>', raw=True)\n",
    "\n",
    "# This line will add a button to toggle visibility of code blocks, for use with the HTML export version\n",
    "di.display_html('''<button onclick=\"jQuery('.input_area').toggle(); jQuery('.prompt').toggle();\">Toggle code</button>''', raw=True)"
   ]
  },
  {
   "cell_type": "code",
   "execution_count": 2,
   "metadata": {},
   "outputs": [],
   "source": [
    "#import ipywidgets as widgets\n",
    "#from IPython.display import display\n",
    "\n",
    "#from data_description import data_analysis\n",
    "#from feature_analysis import feature_corr_analysis\n",
    "#from model_analyis import pred_analysis"
   ]
  },
  {
   "cell_type": "code",
   "execution_count": 4,
   "metadata": {},
   "outputs": [
    {
     "data": {
      "application/vnd.jupyter.widget-view+json": {
       "model_id": "35d92df81123419c99553cf1231bfe10",
       "version_major": 2,
       "version_minor": 0
      },
      "text/plain": [
       "Button(description=u'About dataset', style=ButtonStyle())"
      ]
     },
     "metadata": {},
     "output_type": "display_data"
    },
    {
     "data": {
      "application/vnd.jupyter.widget-view+json": {
       "model_id": "8554ec3f1e83481ab8f2b300cb177281",
       "version_major": 2,
       "version_minor": 0
      },
      "text/plain": [
       "Button(description=u'Feature correlation', style=ButtonStyle())"
      ]
     },
     "metadata": {},
     "output_type": "display_data"
    },
    {
     "data": {
      "application/vnd.jupyter.widget-view+json": {
       "model_id": "59c5ba6dab33440c95f6d9e49fe5c3bc",
       "version_major": 2,
       "version_minor": 0
      },
      "text/plain": [
       "Button(description=u'Inference', style=ButtonStyle())"
      ]
     },
     "metadata": {},
     "output_type": "display_data"
    },
    {
     "data": {
      "application/vnd.jupyter.widget-view+json": {
       "model_id": "b83f3e2ab0584dbb9a0dfea9fc95a9fd",
       "version_major": 2,
       "version_minor": 0
      },
      "text/plain": [
       "Button(description=u'Analysis', style=ButtonStyle())"
      ]
     },
     "metadata": {},
     "output_type": "display_data"
    }
   ],
   "source": [
    "import ipywidgets as widgets\n",
    "from IPython.display import display\n",
    "def buttons_display():\n",
    "    button = widgets.Button(description=\"About dataset\")\n",
    "    display(button)\n",
    "    button1 = widgets.Button(description=\"Feature correlation\")\n",
    "    display(button1)\n",
    "    button2 = widgets.Button(description=\"Inference\")\n",
    "    display(button2)\n",
    "    button3 = widgets.Button(description=\"Analysis\")\n",
    "    display(button3)\n",
    "    button.on_click(on_button_clicked)\n",
    "    button1.on_click(on_button1_clicked)\n",
    "    \n",
    "    button3.on_click(on_button3_clicked)\n",
    "def on_button_clicked(b):\n",
    "    print(data_analysis())\n",
    "    \n",
    "\n",
    "def on_button1_clicked(b):\n",
    "    print(feature_corr_analysis())\n",
    "    \n",
    "def on_button3_clicked(b):\n",
    "    print(pred_analysis())\n",
    "\n",
    "buttons_display()"
   ]
  },
  {
   "cell_type": "code",
   "execution_count": null,
   "metadata": {},
   "outputs": [],
   "source": []
  },
  {
   "cell_type": "code",
   "execution_count": null,
   "metadata": {},
   "outputs": [],
   "source": []
  }
 ],
 "metadata": {
  "kernelspec": {
   "display_name": "Python 3",
   "language": "python",
   "name": "python3"
  },
  "language_info": {
   "codemirror_mode": {
    "name": "ipython",
    "version": 2
   },
   "file_extension": ".py",
   "mimetype": "text/x-python",
   "name": "python",
   "nbconvert_exporter": "python",
   "pygments_lexer": "ipython2",
   "version": "2.7.14"
  }
 },
 "nbformat": 4,
 "nbformat_minor": 2
}
