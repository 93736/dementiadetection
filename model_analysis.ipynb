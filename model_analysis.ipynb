{
 "cells": [
  {
   "cell_type": "code",
   "execution_count": 1,
   "metadata": {},
   "outputs": [
    {
     "name": "stderr",
     "output_type": "stream",
     "text": [
      "/home/kajal/.local/lib/python3.5/site-packages/ipykernel_launcher.py:28: SettingWithCopyWarning: \n",
      "A value is trying to be set on a copy of a slice from a DataFrame.\n",
      "Try using .loc[row_indexer,col_indexer] = value instead\n",
      "\n",
      "See the caveats in the documentation: http://pandas.pydata.org/pandas-docs/stable/indexing.html#indexing-view-versus-copy\n"
     ]
    },
    {
     "name": "stdout",
     "output_type": "stream",
     "text": [
      "\n",
      "\n",
      "\n",
      "SUPPORT VECTOR CLASSIFIER\n",
      "\n",
      "\n",
      "Confusion Matrix:\n",
      "[[46  6]\n",
      " [19 41]]\n",
      "\n",
      "\n",
      "Classification Report: \n",
      "              precision    recall  f1-score   support\n",
      "\n",
      "           0       0.71      0.88      0.79        52\n",
      "           1       0.87      0.68      0.77        60\n",
      "\n",
      "   micro avg       0.78      0.78      0.78       112\n",
      "   macro avg       0.79      0.78      0.78       112\n",
      "weighted avg       0.80      0.78      0.78       112\n",
      "\n"
     ]
    },
    {
     "data": {
      "text/plain": [
       "<Figure size 640x480 with 1 Axes>"
      ]
     },
     "metadata": {},
     "output_type": "display_data"
    },
    {
     "data": {
      "text/plain": [
       "<Figure size 640x480 with 1 Axes>"
      ]
     },
     "metadata": {},
     "output_type": "display_data"
    },
    {
     "name": "stdout",
     "output_type": "stream",
     "text": [
      "\n",
      "Acuuracy Of the Model:  0.7767857142857143 \n",
      "\n",
      "\n",
      "\n",
      "\n",
      "\n",
      " RANDOM FOREST\n",
      "\n",
      "\n",
      "Confusion Matrix:\n",
      "[[46  6]\n",
      " [12 48]]\n",
      "\n",
      "\n",
      "Classification Report: \n",
      "              precision    recall  f1-score   support\n",
      "\n",
      "           0       0.79      0.88      0.84        52\n",
      "           1       0.89      0.80      0.84        60\n",
      "\n",
      "   micro avg       0.84      0.84      0.84       112\n",
      "   macro avg       0.84      0.84      0.84       112\n",
      "weighted avg       0.84      0.84      0.84       112\n",
      "\n"
     ]
    },
    {
     "data": {
      "text/plain": [
       "<Figure size 640x480 with 1 Axes>"
      ]
     },
     "metadata": {},
     "output_type": "display_data"
    },
    {
     "data": {
      "text/plain": [
       "<Figure size 640x480 with 1 Axes>"
      ]
     },
     "metadata": {},
     "output_type": "display_data"
    },
    {
     "name": "stdout",
     "output_type": "stream",
     "text": [
      "\n",
      "Acuuracy Of the Model:  0.8392857142857143 \n",
      "\n",
      "\n",
      "\n",
      "\n",
      "\n",
      " DECISION TREE CLASSIFIERS\n",
      "\n",
      "\n",
      "Confusion Matrix:\n",
      "[[43  9]\n",
      " [14 46]]\n",
      "\n",
      "\n",
      "Classification Report: \n",
      "              precision    recall  f1-score   support\n",
      "\n",
      "           0       0.75      0.83      0.79        52\n",
      "           1       0.84      0.77      0.80        60\n",
      "\n",
      "   micro avg       0.79      0.79      0.79       112\n",
      "   macro avg       0.80      0.80      0.79       112\n",
      "weighted avg       0.80      0.79      0.79       112\n",
      "\n"
     ]
    },
    {
     "data": {
      "text/plain": [
       "<Figure size 640x480 with 1 Axes>"
      ]
     },
     "metadata": {},
     "output_type": "display_data"
    },
    {
     "data": {
      "text/plain": [
       "<Figure size 640x480 with 1 Axes>"
      ]
     },
     "metadata": {},
     "output_type": "display_data"
    },
    {
     "name": "stdout",
     "output_type": "stream",
     "text": [
      "\n",
      "Acuuracy Of the Model:  0.7946428571428571 \n",
      "\n",
      "\n"
     ]
    },
    {
     "data": {
      "text/plain": [
       "'clfs =[GradientBoostingClassifier()]\\nfor model in clfs:\\n    print(\"\\n\\n\\n\",str(model).split(\\'(\\')[0],\": \")\\n    model.fit(X_train,y_train.ravel())\\n    X = pd.DataFrame(X_train)\\n    report_performance(model)\\n    roc_curves(model)\\n    accuracy(model)'"
      ]
     },
     "execution_count": 1,
     "metadata": {},
     "output_type": "execute_result"
    }
   ],
   "source": [
    "import numpy as np # linear algebra\n",
    "import pandas as pd # data processing, CSV file I/O (e.g. pd.read_csv)\n",
    "\n",
    "import os\n",
    "\n",
    "import pandas as pd\n",
    "import seaborn as sns\n",
    "import numpy as np\n",
    "import matplotlib.pyplot as plt\n",
    "\n",
    "\n",
    "\n",
    "\n",
    "df = pd.read_csv('oasis_longitudinal.csv')\n",
    "\n",
    "#print(\"Loading dataset\")\n",
    "\n",
    "#fill null value with their column mean and median\n",
    "df[\"SES\"].fillna(df[\"SES\"].median(), inplace=True)\n",
    "df[\"MMSE\"].fillna(df[\"MMSE\"].mean(), inplace=True)\n",
    "\n",
    "\n",
    "\n",
    "\n",
    "ex_df = df.loc[df['Visit'] == 1]\n",
    "\n",
    "\n",
    "ex_df['Group'] = ex_df['Group'].replace(['Converted'], ['Demented'])\n",
    "df['Group'] = df['Group'].replace(['Converted'], ['Demented'])\n",
    "sns.countplot(x='Group', data=ex_df)\n",
    "\n",
    "\n",
    "#convet the charecter data into numeric\n",
    "group_map = {\"Demented\": 1, \"Nondemented\": 0}\n",
    "\n",
    "df['Group'] = df['Group'].map(group_map)\n",
    "df['M/F'] = df['M/F'].replace(['F','M'], [0,1])\n",
    "\n",
    "\n",
    "\n",
    "# Encode columns into numeric\n",
    "from sklearn.preprocessing import LabelEncoder\n",
    "for column in df.columns:\n",
    "    le = LabelEncoder()\n",
    "    df[column] = le.fit_transform(df[column])\n",
    "\n",
    "\n",
    "\n",
    "from sklearn.model_selection import train_test_split\n",
    "\n",
    "feature_col_names = [\"M/F\", \"Age\", \"EDUC\", \"SES\", \"MMSE\", \"eTIV\", \"nWBV\", \"ASF\"]\n",
    "predicted_class_names = ['Group']\n",
    "\n",
    "X = df[feature_col_names].values\n",
    "y = df[predicted_class_names].values\n",
    "\n",
    "X_train, X_test, y_train, y_test = train_test_split(X, y, test_size=0.30, random_state=42)\n",
    "\n",
    "\n",
    "from sklearn import metrics\n",
    "def plot_confusion_metrix(y_test,model_test):\n",
    "    cm = metrics.confusion_matrix(y_test, model_test)\n",
    "    plt.figure(1)\n",
    "    plt.clf()\n",
    "    plt.imshow(cm, interpolation='nearest', cmap=plt.cm.Wistia)\n",
    "    classNames = ['Nondemented','Demented']\n",
    "    plt.title('Confusion Matrix')\n",
    "    plt.ylabel('True label')\n",
    "    plt.xlabel('Predicted label')\n",
    "    tick_marks = np.arange(len(classNames))\n",
    "    plt.xticks(tick_marks, classNames)\n",
    "    plt.yticks(tick_marks, classNames)\n",
    "    s = [['TN','FP'], ['FN', 'TP']]\n",
    "    for i in range(2):\n",
    "        for j in range(2):\n",
    "            plt.text(j,i, str(s[i][j])+\" = \"+str(cm[i][j]))\n",
    "    plt.show()\n",
    "\n",
    "\n",
    "# In[ ]:\n",
    "\n",
    "\n",
    "from sklearn.metrics import roc_curve, auc\n",
    "def report_performance(model):\n",
    "\n",
    "    model_test = model.predict(X_test)\n",
    "\n",
    "    print(\"\\n\\nConfusion Matrix:\")\n",
    "    print(\"{0}\".format(metrics.confusion_matrix(y_test, model_test)))\n",
    "    print(\"\\n\\nClassification Report: \")\n",
    "    print(metrics.classification_report(y_test, model_test))\n",
    "    #cm = metrics.confusion_matrix(y_test, model_test)\n",
    "    plot_confusion_metrix(y_test, model_test)\n",
    "\n",
    "total_fpr = {}\n",
    "total_tpr = {}\n",
    "def roc_curves(model):\n",
    "    predictions_test = model.predict(X_test)\n",
    "    fpr, tpr, thresholds = roc_curve(predictions_test,y_test)\n",
    "    roc_auc = auc(fpr, tpr)\n",
    "    total_fpr[str((str(model).split('(')[0]))] = fpr\n",
    "    total_tpr[str((str(model).split('(')[0]))] = tpr\n",
    "    plt.figure()\n",
    "    plt.plot(fpr, tpr, color='darkorange', lw=1, label='ROC curve (area = %0.2f)' % roc_auc)\n",
    "    plt.plot([0, 1], [0, 1], color='navy', lw=2, linestyle='--')\n",
    "    plt.xlim([0.0, 1.0])\n",
    "    plt.ylim([0.0, 1.05])\n",
    "    plt.xlabel('False Positive Rate')\n",
    "    plt.ylabel('True Positive Rate')\n",
    "    plt.title('Receiver operating characteristic')\n",
    "    plt.legend(loc=\"lower right\")\n",
    "    plt.show()\n",
    "\n",
    "\n",
    "total_accuracy = {}\n",
    "def accuracy(model):\n",
    "    pred = model.predict(X_test)\n",
    "    accu = metrics.accuracy_score(y_test,pred)\n",
    "    print(\"\\nAcuuracy Of the Model: \",accu,\"\\n\\n\")\n",
    "    total_accuracy[str((str(model).split('(')[0]))] = accu\n",
    "\n",
    "\n",
    "\n",
    "from sklearn.gaussian_process import GaussianProcessClassifier\n",
    "from sklearn.svm import SVC\n",
    "from sklearn.tree import DecisionTreeClassifier\n",
    "from sklearn import metrics\n",
    "#from xgboost import XGBClassifier\n",
    "from sklearn.ensemble import ExtraTreesClassifier\n",
    "from sklearn.tree import ExtraTreeClassifier\n",
    "from sklearn.tree import DecisionTreeClassifier\n",
    "from sklearn.ensemble import GradientBoostingClassifier\n",
    "from sklearn.ensemble import BaggingClassifier\n",
    "from sklearn.ensemble import AdaBoostClassifier\n",
    "from sklearn.ensemble import RandomForestClassifier\n",
    "#from lightgbm import LGBMClassifier\n",
    "from sklearn.model_selection import GridSearchCV\n",
    "from sklearn.naive_bayes import GaussianNB\n",
    "\n",
    "\n",
    "# In[ ]:\n",
    "print(\"\\n\\n\\nSUPPORT VECTOR CLASSIFIER\")\n",
    "\n",
    "svm = SVC(kernel=\"linear\", C=0.1,random_state=0)\n",
    "svm.fit(X_train, y_train.ravel())\n",
    "report_performance(svm) \n",
    "roc_curves(svm)\n",
    "accuracy(svm)\n",
    "\n",
    "\n",
    "# In[ ]:\n",
    "print(\"\\n\\n\\n RANDOM FOREST\")\n",
    "\n",
    "rfc=RandomForestClassifier(criterion='gini',max_depth=8,max_features='auto',n_estimators=200)\n",
    "\n",
    "param_grid = { \n",
    "    'n_estimators': [200],\n",
    "    'max_features': ['auto'],\n",
    "    'max_depth' : [4,5,6,7,8],\n",
    "    'criterion' :['gini']\n",
    "}\n",
    "\n",
    "#CV_rfc = GridSearchCV(estimator=rfc, param_grid=param_grid, cv= 5,scoring = 'roc_auc')\n",
    "rfc.fit(X_train, y_train.ravel())\n",
    "#print(\"Best parameters set found on development set:\")\n",
    "#print(rfc.best_params_)\n",
    "y_pred=rfc.predict(X_test)\n",
    "\n",
    "\n",
    "#print(y_train)\n",
    "report_performance(rfc) \n",
    "roc_curves(rfc)\n",
    "accuracy(rfc)\n",
    "\n",
    "\n",
    "\n",
    "\n",
    "# In[ ]:\n",
    "print(\"\\n\\n\\n DECISION TREE CLASSIFIERS\")\n",
    "clf_dtc = DecisionTreeClassifier(criterion='entropy',max_depth=5,random_state=0)\n",
    "clf_dtc.fit(X_train, y_train.ravel())\n",
    "report_performance(clf_dtc) \n",
    "roc_curves(clf_dtc)\n",
    "accuracy(clf_dtc)\n",
    "#importances = clf.feature_importances_\n",
    "\n",
    "\n",
    "\n",
    "\n",
    "\n",
    "# In[ ]:\n",
    "\n",
    "\n",
    "from sklearn import svm, tree, linear_model, neighbors, naive_bayes, ensemble, discriminant_analysis, gaussian_process\n",
    "#from xgboost import XGBClassifier\n",
    "from sklearn.preprocessing import LabelEncoder\n",
    "from sklearn import feature_selection\n",
    "from sklearn import model_selection\n",
    "\n",
    "\n",
    "# In[ ]:\n",
    "\n",
    "'''print(\"\\n\\n\\n VOTING CLASSIFIERS\")\n",
    "vote_est = [('etc',ensemble.ExtraTreesClassifier()),\n",
    "            ('gb',GradientBoostingClassifier()),\n",
    "            ('abc',AdaBoostClassifier()),\n",
    "    ('rfc', ensemble.RandomForestClassifier(criterion='gini', max_depth=8, max_features='auto', n_estimators=200)),\n",
    "    #('svc', svm.SVC(probability=True)),\n",
    "    #('xgb', XGBClassifier()),\n",
    "            #('lbgm',LGBMClassifier())\n",
    "           ]\n",
    "\n",
    "\n",
    "vote_hard = ensemble.VotingClassifier(estimators = vote_est , voting = 'hard')\n",
    "vote_hard_cv = model_selection.cross_validate(vote_hard, X_train, y_train.ravel())\n",
    "vote_hard.fit(X_train, y_train.ravel())\n",
    "report_performance(vote_hard) \n",
    "roc_curves(vote_hard)\n",
    "accuracy(vote_hard)\n",
    "pred = vote_hard.predict(X_test)\n",
    "accu = metrics.accuracy_score(y_test,pred)\n",
    "#print(\"\\nAcuuracy Of the Model: \",accu,\"\\n\\n\")\n",
    "\n",
    "'''\n",
    "# In[ ]:\n",
    "\n",
    "\n",
    "'''clfs =[GradientBoostingClassifier()]\n",
    "for model in clfs:\n",
    "    print(\"\\n\\n\\n\",str(model).split('(')[0],\": \")\n",
    "    model.fit(X_train,y_train.ravel())\n",
    "    X = pd.DataFrame(X_train)\n",
    "    report_performance(model)\n",
    "    roc_curves(model)\n",
    "    accuracy(model)'''\n",
    "    \n",
    "    \n",
    "\n",
    "\n",
    "\n",
    "\n",
    "\n",
    "\n",
    "\n",
    "\n",
    "\n"
   ]
  },
  {
   "cell_type": "code",
   "execution_count": 2,
   "metadata": {},
   "outputs": [
    {
     "data": {
      "text/plain": [
       "Text(0, 0.5, 'Accuracy')"
      ]
     },
     "execution_count": 2,
     "metadata": {},
     "output_type": "execute_result"
    },
    {
     "data": {
      "image/png": "[encoded data removed]",
      "text/plain": [
       "<Figure size 432x288 with 1 Axes>"
      ]
     },
     "metadata": {
      "needs_background": "light"
     },
     "output_type": "display_data"
    }
   ],
   "source": [
    "data = total_accuracy.values()\n",
    "labels = total_accuracy.keys()\n",
    "\n",
    "plt.plot([i for i, e in enumerate(data)], data, 'ro'); plt.xticks([i for i, e in enumerate(labels)], [l[0:16] for l in labels])\n",
    "plt.title(\"Model Vs Accuracy\",fontsize = 14)\n",
    "plt.xlabel('Model',fontsize = 13)\n",
    "plt.xticks(rotation = 50)\n",
    "plt.ylabel('Accuracy',fontsize = 13)\n",
    "\n",
    "\n",
    "\n",
    "\n"
   ]
  },
  {
   "cell_type": "code",
   "execution_count": 16,
   "metadata": {},
   "outputs": [],
   "source": [
    "\n"
   ]
  },
  {
   "cell_type": "code",
   "execution_count": null,
   "metadata": {},
   "outputs": [],
   "source": []
  }
 ],
 "metadata": {
  "kernelspec": {
   "display_name": "Python 3",
   "language": "python",
   "name": "python3"
  },
  "language_info": {
   "codemirror_mode": {
    "name": "ipython",
    "version": 2
   },
   "file_extension": ".py",
   "mimetype": "text/x-python",
   "name": "python",
   "nbconvert_exporter": "python",
   "pygments_lexer": "ipython2",
   "version": "2.7.14"
  }
 },
 "nbformat": 4,
 "nbformat_minor": 2
}
