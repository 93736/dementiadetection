{
 "cells": [
  {
   "cell_type": "code",
   "execution_count": 4,
   "metadata": {},
   "outputs": [
    {
     "ename": "ImportError",
     "evalue": "No module named functions",
     "output_type": "error",
     "traceback": [
      "\u001b[0;31m---------------------------------------------------------------------------\u001b[0m",
      "\u001b[0;31mImportError\u001b[0m                               Traceback (most recent call last)",
      "\u001b[0;32m<ipython-input-4-d4fc4d837f6f>\u001b[0m in \u001b[0;36m<module>\u001b[0;34m()\u001b[0m\n\u001b[1;32m      1\u001b[0m \u001b[0;31m#from functions import describe_data,count_dementiated\u001b[0m\u001b[0;34m\u001b[0m\u001b[0;34m\u001b[0m\u001b[0m\n\u001b[0;32m----> 2\u001b[0;31m \u001b[0;32mfrom\u001b[0m \u001b[0mfunctions\u001b[0m \u001b[0;32mimport\u001b[0m \u001b[0mcount_dementiated\u001b[0m\u001b[0;34m,\u001b[0m\u001b[0mdescribe_data\u001b[0m\u001b[0;34m,\u001b[0m\u001b[0mbar_chart\u001b[0m\u001b[0;34m,\u001b[0m\u001b[0mage_by_gender\u001b[0m\u001b[0;34m,\u001b[0m\u001b[0mcdr_by_gender\u001b[0m\u001b[0;34m,\u001b[0m\u001b[0moutliers_iqr\u001b[0m\u001b[0;34m,\u001b[0m\u001b[0mboxplots\u001b[0m\u001b[0;34m,\u001b[0m\u001b[0mplot_correlation_map\u001b[0m\u001b[0;34m,\u001b[0m\u001b[0mplot_confusion_metrix\u001b[0m\u001b[0;34m\u001b[0m\u001b[0m\n\u001b[0m\u001b[1;32m      3\u001b[0m \u001b[0;32mimport\u001b[0m \u001b[0mpandas\u001b[0m \u001b[0;32mas\u001b[0m \u001b[0mpd\u001b[0m\u001b[0;34m\u001b[0m\u001b[0m\n\u001b[1;32m      4\u001b[0m \u001b[0;32mimport\u001b[0m \u001b[0mmatplotlib\u001b[0m\u001b[0;34m.\u001b[0m\u001b[0mpyplot\u001b[0m \u001b[0;32mas\u001b[0m \u001b[0mplt\u001b[0m\u001b[0;34m\u001b[0m\u001b[0m\n\u001b[1;32m      5\u001b[0m \u001b[0;34m\u001b[0m\u001b[0m\n",
      "\u001b[0;31mImportError\u001b[0m: No module named functions"
     ]
    }
   ],
   "source": [
    "#from functions import describe_data,count_dementiated\n",
    "from functions import count_dementiated,describe_data,bar_chart,age_by_gender,cdr_by_gender,outliers_iqr,boxplots,plot_correlation_map,plot_confusion_metrix\n",
    "import pandas as pd\n",
    "import matplotlib.pyplot as plt\n",
    "\n",
    "\n",
    "def data_analysis():\n",
    "    df = pd.read_csv('/home/dell/Downloads/dementia/oasis_longitudinal.csv')\n",
    "    print(\"Data Description\\n\\n\\n\")\n",
    "    describe_data(df)\n",
    "\n",
    "\n",
    "    \n",
    "data_analysis()"
   ]
  },
  {
   "cell_type": "code",
   "execution_count": null,
   "metadata": {},
   "outputs": [],
   "source": []
  },
  {
   "cell_type": "code",
   "execution_count": null,
   "metadata": {},
   "outputs": [],
   "source": []
  }
 ],
 "metadata": {
  "kernelspec": {
   "display_name": "Python 3",
   "language": "python",
   "name": "python3"
  },
  "language_info": {
   "codemirror_mode": {
    "name": "ipython",
    "version": 2
   },
   "file_extension": ".py",
   "mimetype": "text/x-python",
   "name": "python",
   "nbconvert_exporter": "python",
   "pygments_lexer": "ipython2",
   "version": "2.7.14"
  }
 },
 "nbformat": 4,
 "nbformat_minor": 2
}
